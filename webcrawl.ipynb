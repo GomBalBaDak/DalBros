{
 "cells": [
  {
   "cell_type": "code",
   "execution_count": 1,
   "metadata": {},
   "outputs": [],
   "source": [
    "import requests\n",
    "from bs4 import BeautifulSoup"
   ]
  },
  {
   "cell_type": "code",
   "execution_count": 2,
   "metadata": {},
   "outputs": [],
   "source": [
    "req = requests.get(\"https://pgr21.com/humor/447442\")\n",
    "soup = BeautifulSoup(req.content,\"html.parser\")\n",
    "soup.find_all(\"img\")\n",
    "img_list = soup.find_all(\"img\")"
   ]
  },
  {
   "cell_type": "code",
   "execution_count": 3,
   "metadata": {},
   "outputs": [
    {
     "data": {
      "text/plain": [
       "['https://i.imgur.com/mWGVLZd.jpg',\n",
       " 'https://i.imgur.com/1fbUhP7.jpg',\n",
       " 'https://i.imgur.com/YPvB0Ml.jpg',\n",
       " 'https://i.imgur.com/uBKLguq.jpg',\n",
       " 'https://i.imgur.com/3uJXz9R.jpg',\n",
       " 'https://i.imgur.com/K4G9mcp.jpg']"
      ]
     },
     "execution_count": 3,
     "metadata": {},
     "output_type": "execute_result"
    }
   ],
   "source": [
    "import re\n",
    "patrn = re.compile('<img alt=\"(?P<file_name>[a-zA-Z0-9]{7}).(?P<file_exc>[a-z]{3,5})\"\\ssrc=\"(?P<url>.{20,})\"\\stitle=\"')\n",
    "\n",
    "url_list = []\n",
    "for img in img_list:\n",
    "  m = patrn.search(str(img))\n",
    "  if m!=None:\n",
    "    url_list.append(m.group(\"url\"))\n",
    "\n",
    "url_list"
   ]
  },
  {
   "cell_type": "code",
   "execution_count": 9,
   "metadata": {},
   "outputs": [],
   "source": [
    "import urllib.request\n",
    "\n",
    "for count, url in zip(range(len(url_list)), url_list):\n",
    "    path = r'C:\\Users\\darau\\Downloads'\n",
    "    filename = f'\\{count}.jpg'\n",
    "    fullpath = path+filename\n",
    "    urllib.request.urlretrieve(url, fullpath)"
   ]
  },
  {
   "cell_type": "code",
   "execution_count": null,
   "metadata": {},
   "outputs": [],
   "source": []
  }
 ],
 "metadata": {
  "interpreter": {
   "hash": "07efdcd4b820c98a756949507a4d29d7862823915ec7477944641bea022f4f62"
  },
  "kernelspec": {
   "display_name": "Python 3.8.5 64-bit ('base': conda)",
   "name": "python3"
  },
  "language_info": {
   "codemirror_mode": {
    "name": "ipython",
    "version": 3
   },
   "file_extension": ".py",
   "mimetype": "text/x-python",
   "name": "python",
   "nbconvert_exporter": "python",
   "pygments_lexer": "ipython3",
   "version": "3.8.5"
  },
  "orig_nbformat": 4
 },
 "nbformat": 4,
 "nbformat_minor": 2
}
